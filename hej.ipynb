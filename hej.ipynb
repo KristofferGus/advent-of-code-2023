{
 "cells": [
  {
   "cell_type": "code",
   "execution_count": 3,
   "metadata": {},
   "outputs": [],
   "source": [
    "import csv\n",
    "\n",
    "# Specify the path to your CSV file\n",
    "csv_file_path = r'C:\\Users\\KG\\Documents\\Git\\DML\\RecipeNLG_dataset.csv'\n",
    "\n",
    "# Open the CSV file\n",
    "with open(csv_file_path, newline='') as csvfile:\n",
    "    # Create a CSV reader\n",
    "    csv_reader = csv.reader(csvfile)\n",
    "    \n",
    "    # Read the first row\n",
    "    first_row = next(csv_reader)\n",
    "    \n",
    "    # Display the first row\n",
    "    a = next(csv_reader)\n"
   ]
  },
  {
   "cell_type": "code",
   "execution_count": 11,
   "metadata": {},
   "outputs": [
    {
     "data": {
      "text/plain": [
       "['[\"In a heavy 2-quart saucepan',\n",
       " 'mix brown sugar',\n",
       " 'nuts',\n",
       " 'evaporated milk and butter or margarine.\"',\n",
       " '\"Stir over medium heat until mixture bubbles all over top.\"',\n",
       " '\"Boil and stir 5 minutes more. Take off heat.\"',\n",
       " '\"Stir in vanilla and cereal; mix well.\"',\n",
       " '\"Using 2 teaspoons',\n",
       " 'drop and shape into 30 clusters on wax paper.\"',\n",
       " '\"Let stand until firm',\n",
       " 'about 30 minutes.\"]']"
      ]
     },
     "execution_count": 11,
     "metadata": {},
     "output_type": "execute_result"
    }
   ],
   "source": [
    "a[3].split(\", \")"
   ]
  },
  {
   "cell_type": "code",
   "execution_count": null,
   "metadata": {},
   "outputs": [],
   "source": []
  }
 ],
 "metadata": {
  "kernelspec": {
   "display_name": ".venv",
   "language": "python",
   "name": "python3"
  },
  "language_info": {
   "codemirror_mode": {
    "name": "ipython",
    "version": 3
   },
   "file_extension": ".py",
   "mimetype": "text/x-python",
   "name": "python",
   "nbconvert_exporter": "python",
   "pygments_lexer": "ipython3",
   "version": "3.10.5"
  }
 },
 "nbformat": 4,
 "nbformat_minor": 2
}
