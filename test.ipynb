{
 "cells": [
  {
   "cell_type": "code",
   "execution_count": 29,
   "metadata": {},
   "outputs": [
    {
     "data": {
      "text/plain": [
       "[1, 2, 3, 4, 5, 6, 7, 8, 9, 10]"
      ]
     },
     "execution_count": 29,
     "metadata": {},
     "output_type": "execute_result"
    }
   ],
   "source": [
    "numbs = list(range(1, 11))\n",
    "numbs"
   ]
  },
  {
   "cell_type": "code",
   "execution_count": 30,
   "metadata": {},
   "outputs": [
    {
     "data": {
      "text/plain": [
       "[3628800]"
      ]
     },
     "execution_count": 30,
     "metadata": {},
     "output_type": "execute_result"
    }
   ],
   "source": [
    "a = lambda l, identity: [(l[i-1], l[i]) for i in range(1,len(l),2)] + [(l[-1],identity)] * (len(l) % 2)\n",
    "\n",
    "c = lambda b, bin_op: [bin_op(t[0],t[1]) for t in b]\n",
    "\n",
    "d = lambda n, bin_op,identity: c(a(n, identity), bin_op)\n",
    "\n",
    "mul = lambda a,b: a*b\n",
    "\n",
    "d(d(d(d(numbs, mul, 1),mul, 1),mul, 1),mul, 1)"
   ]
  },
  {
   "cell_type": "code",
   "execution_count": 31,
   "metadata": {},
   "outputs": [
    {
     "data": {
      "text/plain": [
       "[3628800]"
      ]
     },
     "execution_count": 31,
     "metadata": {},
     "output_type": "execute_result"
    }
   ],
   "source": [
    "j = lambda l, f, bin_op, identity, self, stop: l if stop(l) else self(f(l,bin_op, identity),f,bin_op,identity,self, stop)\n",
    "k = lambda list,f,bin_op,identity, stop: j(list,f,bin_op, identity,j, stop)\n",
    "bin_all = lambda list,bin_op,identity, stop: k(list,d,bin_op,identity,stop)\n",
    "\n",
    "bin_all(numbs,mul,1, lambda l: (len(l) == 1))"
   ]
  },
  {
   "cell_type": "code",
   "execution_count": 32,
   "metadata": {},
   "outputs": [
    {
     "ename": "ZeroDivisionError",
     "evalue": "integer division or modulo by zero",
     "output_type": "error",
     "traceback": [
      "\u001b[1;31m---------------------------------------------------------------------------\u001b[0m",
      "\u001b[1;31mZeroDivisionError\u001b[0m                         Traceback (most recent call last)",
      "\u001b[1;32mc:\\Users\\KG\\Documents\\GitHub\\advent-of-code-2023\\test.ipynb Cell 4\u001b[0m line \u001b[0;36m2\n\u001b[0;32m      <a href='vscode-notebook-cell:/c%3A/Users/KG/Documents/GitHub/advent-of-code-2023/test.ipynb#W3sZmlsZQ%3D%3D?line=0'>1</a>\u001b[0m add \u001b[39m=\u001b[39m \u001b[39mlambda\u001b[39;00m a,b: a\u001b[39m%\u001b[39mb\n\u001b[1;32m----> <a href='vscode-notebook-cell:/c%3A/Users/KG/Documents/GitHub/advent-of-code-2023/test.ipynb#W3sZmlsZQ%3D%3D?line=1'>2</a>\u001b[0m bin_all(numbs, add,\u001b[39m0\u001b[39;49m, \u001b[39mlambda\u001b[39;49;00m l: (\u001b[39mlen\u001b[39;49m(l) \u001b[39m==\u001b[39;49m \u001b[39m1\u001b[39;49m)) \n",
      "\u001b[1;32mc:\\Users\\KG\\Documents\\GitHub\\advent-of-code-2023\\test.ipynb Cell 4\u001b[0m line \u001b[0;36m3\n\u001b[0;32m      <a href='vscode-notebook-cell:/c%3A/Users/KG/Documents/GitHub/advent-of-code-2023/test.ipynb#W3sZmlsZQ%3D%3D?line=0'>1</a>\u001b[0m j \u001b[39m=\u001b[39m \u001b[39mlambda\u001b[39;00m l, f, bin_op, identity, \u001b[39mself\u001b[39m, stop: l \u001b[39mif\u001b[39;00m stop(l) \u001b[39melse\u001b[39;00m \u001b[39mself\u001b[39m(f(l,bin_op, identity),f,bin_op,identity,\u001b[39mself\u001b[39m, stop)\n\u001b[0;32m      <a href='vscode-notebook-cell:/c%3A/Users/KG/Documents/GitHub/advent-of-code-2023/test.ipynb#W3sZmlsZQ%3D%3D?line=1'>2</a>\u001b[0m k \u001b[39m=\u001b[39m \u001b[39mlambda\u001b[39;00m \u001b[39mlist\u001b[39m,f,bin_op,identity, stop: j(\u001b[39mlist\u001b[39m,f,bin_op, identity,j, stop)\n\u001b[1;32m----> <a href='vscode-notebook-cell:/c%3A/Users/KG/Documents/GitHub/advent-of-code-2023/test.ipynb#W3sZmlsZQ%3D%3D?line=2'>3</a>\u001b[0m bin_all \u001b[39m=\u001b[39m \u001b[39mlambda\u001b[39;00m \u001b[39mlist\u001b[39m,bin_op,identity, stop: k(\u001b[39mlist\u001b[39;49m,d,bin_op,identity,stop)\n\u001b[0;32m      <a href='vscode-notebook-cell:/c%3A/Users/KG/Documents/GitHub/advent-of-code-2023/test.ipynb#W3sZmlsZQ%3D%3D?line=4'>5</a>\u001b[0m bin_all(numbs,mul,\u001b[39m1\u001b[39m, \u001b[39mlambda\u001b[39;00m l: (\u001b[39mlen\u001b[39m(l) \u001b[39m==\u001b[39m \u001b[39m1\u001b[39m))\n",
      "\u001b[1;32mc:\\Users\\KG\\Documents\\GitHub\\advent-of-code-2023\\test.ipynb Cell 4\u001b[0m line \u001b[0;36m2\n\u001b[0;32m      <a href='vscode-notebook-cell:/c%3A/Users/KG/Documents/GitHub/advent-of-code-2023/test.ipynb#W3sZmlsZQ%3D%3D?line=0'>1</a>\u001b[0m j \u001b[39m=\u001b[39m \u001b[39mlambda\u001b[39;00m l, f, bin_op, identity, \u001b[39mself\u001b[39m, stop: l \u001b[39mif\u001b[39;00m stop(l) \u001b[39melse\u001b[39;00m \u001b[39mself\u001b[39m(f(l,bin_op, identity),f,bin_op,identity,\u001b[39mself\u001b[39m, stop)\n\u001b[1;32m----> <a href='vscode-notebook-cell:/c%3A/Users/KG/Documents/GitHub/advent-of-code-2023/test.ipynb#W3sZmlsZQ%3D%3D?line=1'>2</a>\u001b[0m k \u001b[39m=\u001b[39m \u001b[39mlambda\u001b[39;00m \u001b[39mlist\u001b[39m,f,bin_op,identity, stop: j(\u001b[39mlist\u001b[39;49m,f,bin_op, identity,j, stop)\n\u001b[0;32m      <a href='vscode-notebook-cell:/c%3A/Users/KG/Documents/GitHub/advent-of-code-2023/test.ipynb#W3sZmlsZQ%3D%3D?line=2'>3</a>\u001b[0m bin_all \u001b[39m=\u001b[39m \u001b[39mlambda\u001b[39;00m \u001b[39mlist\u001b[39m,bin_op,identity, stop: k(\u001b[39mlist\u001b[39m,d,bin_op,identity,stop)\n\u001b[0;32m      <a href='vscode-notebook-cell:/c%3A/Users/KG/Documents/GitHub/advent-of-code-2023/test.ipynb#W3sZmlsZQ%3D%3D?line=4'>5</a>\u001b[0m bin_all(numbs,mul,\u001b[39m1\u001b[39m, \u001b[39mlambda\u001b[39;00m l: (\u001b[39mlen\u001b[39m(l) \u001b[39m==\u001b[39m \u001b[39m1\u001b[39m))\n",
      "\u001b[1;32mc:\\Users\\KG\\Documents\\GitHub\\advent-of-code-2023\\test.ipynb Cell 4\u001b[0m line \u001b[0;36m1\n\u001b[1;32m----> <a href='vscode-notebook-cell:/c%3A/Users/KG/Documents/GitHub/advent-of-code-2023/test.ipynb#W3sZmlsZQ%3D%3D?line=0'>1</a>\u001b[0m j \u001b[39m=\u001b[39m \u001b[39mlambda\u001b[39;00m l, f, bin_op, identity, \u001b[39mself\u001b[39m, stop: l \u001b[39mif\u001b[39;00m stop(l) \u001b[39melse\u001b[39;00m \u001b[39mself\u001b[39;49m(f(l,bin_op, identity),f,bin_op,identity,\u001b[39mself\u001b[39;49m, stop)\n\u001b[0;32m      <a href='vscode-notebook-cell:/c%3A/Users/KG/Documents/GitHub/advent-of-code-2023/test.ipynb#W3sZmlsZQ%3D%3D?line=1'>2</a>\u001b[0m k \u001b[39m=\u001b[39m \u001b[39mlambda\u001b[39;00m \u001b[39mlist\u001b[39m,f,bin_op,identity, stop: j(\u001b[39mlist\u001b[39m,f,bin_op, identity,j, stop)\n\u001b[0;32m      <a href='vscode-notebook-cell:/c%3A/Users/KG/Documents/GitHub/advent-of-code-2023/test.ipynb#W3sZmlsZQ%3D%3D?line=2'>3</a>\u001b[0m bin_all \u001b[39m=\u001b[39m \u001b[39mlambda\u001b[39;00m \u001b[39mlist\u001b[39m,bin_op,identity, stop: k(\u001b[39mlist\u001b[39m,d,bin_op,identity,stop)\n",
      "\u001b[1;32mc:\\Users\\KG\\Documents\\GitHub\\advent-of-code-2023\\test.ipynb Cell 4\u001b[0m line \u001b[0;36m1\n\u001b[1;32m----> <a href='vscode-notebook-cell:/c%3A/Users/KG/Documents/GitHub/advent-of-code-2023/test.ipynb#W3sZmlsZQ%3D%3D?line=0'>1</a>\u001b[0m j \u001b[39m=\u001b[39m \u001b[39mlambda\u001b[39;00m l, f, bin_op, identity, \u001b[39mself\u001b[39m, stop: l \u001b[39mif\u001b[39;00m stop(l) \u001b[39melse\u001b[39;00m \u001b[39mself\u001b[39m(f(l,bin_op, identity),f,bin_op,identity,\u001b[39mself\u001b[39m, stop)\n\u001b[0;32m      <a href='vscode-notebook-cell:/c%3A/Users/KG/Documents/GitHub/advent-of-code-2023/test.ipynb#W3sZmlsZQ%3D%3D?line=1'>2</a>\u001b[0m k \u001b[39m=\u001b[39m \u001b[39mlambda\u001b[39;00m \u001b[39mlist\u001b[39m,f,bin_op,identity, stop: j(\u001b[39mlist\u001b[39m,f,bin_op, identity,j, stop)\n\u001b[0;32m      <a href='vscode-notebook-cell:/c%3A/Users/KG/Documents/GitHub/advent-of-code-2023/test.ipynb#W3sZmlsZQ%3D%3D?line=2'>3</a>\u001b[0m bin_all \u001b[39m=\u001b[39m \u001b[39mlambda\u001b[39;00m \u001b[39mlist\u001b[39m,bin_op,identity, stop: k(\u001b[39mlist\u001b[39m,d,bin_op,identity,stop)\n",
      "\u001b[1;32mc:\\Users\\KG\\Documents\\GitHub\\advent-of-code-2023\\test.ipynb Cell 4\u001b[0m line \u001b[0;36m5\n\u001b[0;32m      <a href='vscode-notebook-cell:/c%3A/Users/KG/Documents/GitHub/advent-of-code-2023/test.ipynb#W3sZmlsZQ%3D%3D?line=0'>1</a>\u001b[0m a \u001b[39m=\u001b[39m \u001b[39mlambda\u001b[39;00m l, identity: [(l[i\u001b[39m-\u001b[39m\u001b[39m1\u001b[39m], l[i]) \u001b[39mfor\u001b[39;00m i \u001b[39min\u001b[39;00m \u001b[39mrange\u001b[39m(\u001b[39m1\u001b[39m,\u001b[39mlen\u001b[39m(l),\u001b[39m2\u001b[39m)] \u001b[39m+\u001b[39m [(l[\u001b[39m-\u001b[39m\u001b[39m1\u001b[39m],identity)] \u001b[39m*\u001b[39m (\u001b[39mlen\u001b[39m(l) \u001b[39m%\u001b[39m \u001b[39m2\u001b[39m)\n\u001b[0;32m      <a href='vscode-notebook-cell:/c%3A/Users/KG/Documents/GitHub/advent-of-code-2023/test.ipynb#W3sZmlsZQ%3D%3D?line=2'>3</a>\u001b[0m c \u001b[39m=\u001b[39m \u001b[39mlambda\u001b[39;00m b, bin_op: [bin_op(t[\u001b[39m0\u001b[39m],t[\u001b[39m1\u001b[39m]) \u001b[39mfor\u001b[39;00m t \u001b[39min\u001b[39;00m b]\n\u001b[1;32m----> <a href='vscode-notebook-cell:/c%3A/Users/KG/Documents/GitHub/advent-of-code-2023/test.ipynb#W3sZmlsZQ%3D%3D?line=4'>5</a>\u001b[0m d \u001b[39m=\u001b[39m \u001b[39mlambda\u001b[39;00m n, bin_op,identity: c(a(n, identity), bin_op)\n\u001b[0;32m      <a href='vscode-notebook-cell:/c%3A/Users/KG/Documents/GitHub/advent-of-code-2023/test.ipynb#W3sZmlsZQ%3D%3D?line=6'>7</a>\u001b[0m mul \u001b[39m=\u001b[39m \u001b[39mlambda\u001b[39;00m a,b: a\u001b[39m*\u001b[39mb\n\u001b[0;32m      <a href='vscode-notebook-cell:/c%3A/Users/KG/Documents/GitHub/advent-of-code-2023/test.ipynb#W3sZmlsZQ%3D%3D?line=8'>9</a>\u001b[0m d(d(d(d(numbs, mul, \u001b[39m1\u001b[39m),mul, \u001b[39m1\u001b[39m),mul, \u001b[39m1\u001b[39m),mul, \u001b[39m1\u001b[39m)\n",
      "\u001b[1;32mc:\\Users\\KG\\Documents\\GitHub\\advent-of-code-2023\\test.ipynb Cell 4\u001b[0m line \u001b[0;36m3\n\u001b[0;32m      <a href='vscode-notebook-cell:/c%3A/Users/KG/Documents/GitHub/advent-of-code-2023/test.ipynb#W3sZmlsZQ%3D%3D?line=0'>1</a>\u001b[0m a \u001b[39m=\u001b[39m \u001b[39mlambda\u001b[39;00m l, identity: [(l[i\u001b[39m-\u001b[39m\u001b[39m1\u001b[39m], l[i]) \u001b[39mfor\u001b[39;00m i \u001b[39min\u001b[39;00m \u001b[39mrange\u001b[39m(\u001b[39m1\u001b[39m,\u001b[39mlen\u001b[39m(l),\u001b[39m2\u001b[39m)] \u001b[39m+\u001b[39m [(l[\u001b[39m-\u001b[39m\u001b[39m1\u001b[39m],identity)] \u001b[39m*\u001b[39m (\u001b[39mlen\u001b[39m(l) \u001b[39m%\u001b[39m \u001b[39m2\u001b[39m)\n\u001b[1;32m----> <a href='vscode-notebook-cell:/c%3A/Users/KG/Documents/GitHub/advent-of-code-2023/test.ipynb#W3sZmlsZQ%3D%3D?line=2'>3</a>\u001b[0m c \u001b[39m=\u001b[39m \u001b[39mlambda\u001b[39;00m b, bin_op: [bin_op(t[\u001b[39m0\u001b[39m],t[\u001b[39m1\u001b[39m]) \u001b[39mfor\u001b[39;00m t \u001b[39min\u001b[39;00m b]\n\u001b[0;32m      <a href='vscode-notebook-cell:/c%3A/Users/KG/Documents/GitHub/advent-of-code-2023/test.ipynb#W3sZmlsZQ%3D%3D?line=4'>5</a>\u001b[0m d \u001b[39m=\u001b[39m \u001b[39mlambda\u001b[39;00m n, bin_op,identity: c(a(n, identity), bin_op)\n\u001b[0;32m      <a href='vscode-notebook-cell:/c%3A/Users/KG/Documents/GitHub/advent-of-code-2023/test.ipynb#W3sZmlsZQ%3D%3D?line=6'>7</a>\u001b[0m mul \u001b[39m=\u001b[39m \u001b[39mlambda\u001b[39;00m a,b: a\u001b[39m*\u001b[39mb\n",
      "\u001b[1;32mc:\\Users\\KG\\Documents\\GitHub\\advent-of-code-2023\\test.ipynb Cell 4\u001b[0m line \u001b[0;36m3\n\u001b[0;32m      <a href='vscode-notebook-cell:/c%3A/Users/KG/Documents/GitHub/advent-of-code-2023/test.ipynb#W3sZmlsZQ%3D%3D?line=0'>1</a>\u001b[0m a \u001b[39m=\u001b[39m \u001b[39mlambda\u001b[39;00m l, identity: [(l[i\u001b[39m-\u001b[39m\u001b[39m1\u001b[39m], l[i]) \u001b[39mfor\u001b[39;00m i \u001b[39min\u001b[39;00m \u001b[39mrange\u001b[39m(\u001b[39m1\u001b[39m,\u001b[39mlen\u001b[39m(l),\u001b[39m2\u001b[39m)] \u001b[39m+\u001b[39m [(l[\u001b[39m-\u001b[39m\u001b[39m1\u001b[39m],identity)] \u001b[39m*\u001b[39m (\u001b[39mlen\u001b[39m(l) \u001b[39m%\u001b[39m \u001b[39m2\u001b[39m)\n\u001b[1;32m----> <a href='vscode-notebook-cell:/c%3A/Users/KG/Documents/GitHub/advent-of-code-2023/test.ipynb#W3sZmlsZQ%3D%3D?line=2'>3</a>\u001b[0m c \u001b[39m=\u001b[39m \u001b[39mlambda\u001b[39;00m b, bin_op: [bin_op(t[\u001b[39m0\u001b[39;49m],t[\u001b[39m1\u001b[39;49m]) \u001b[39mfor\u001b[39;00m t \u001b[39min\u001b[39;00m b]\n\u001b[0;32m      <a href='vscode-notebook-cell:/c%3A/Users/KG/Documents/GitHub/advent-of-code-2023/test.ipynb#W3sZmlsZQ%3D%3D?line=4'>5</a>\u001b[0m d \u001b[39m=\u001b[39m \u001b[39mlambda\u001b[39;00m n, bin_op,identity: c(a(n, identity), bin_op)\n\u001b[0;32m      <a href='vscode-notebook-cell:/c%3A/Users/KG/Documents/GitHub/advent-of-code-2023/test.ipynb#W3sZmlsZQ%3D%3D?line=6'>7</a>\u001b[0m mul \u001b[39m=\u001b[39m \u001b[39mlambda\u001b[39;00m a,b: a\u001b[39m*\u001b[39mb\n",
      "\u001b[1;32mc:\\Users\\KG\\Documents\\GitHub\\advent-of-code-2023\\test.ipynb Cell 4\u001b[0m line \u001b[0;36m1\n\u001b[1;32m----> <a href='vscode-notebook-cell:/c%3A/Users/KG/Documents/GitHub/advent-of-code-2023/test.ipynb#W3sZmlsZQ%3D%3D?line=0'>1</a>\u001b[0m add \u001b[39m=\u001b[39m \u001b[39mlambda\u001b[39;00m a,b: a\u001b[39m%\u001b[39;49mb\n\u001b[0;32m      <a href='vscode-notebook-cell:/c%3A/Users/KG/Documents/GitHub/advent-of-code-2023/test.ipynb#W3sZmlsZQ%3D%3D?line=1'>2</a>\u001b[0m bin_all(numbs, add,\u001b[39m0\u001b[39m, \u001b[39mlambda\u001b[39;00m l: (\u001b[39mlen\u001b[39m(l) \u001b[39m==\u001b[39m \u001b[39m1\u001b[39m)) \n",
      "\u001b[1;31mZeroDivisionError\u001b[0m: integer division or modulo by zero"
     ]
    }
   ],
   "source": [
    "add = lambda a,b: a%b\n",
    "bin_all(numbs, add,0, lambda l: (len(l) == 1)) "
   ]
  },
  {
   "cell_type": "code",
   "execution_count": null,
   "metadata": {},
   "outputs": [
    {
     "data": {
      "text/plain": [
       "55"
      ]
     },
     "execution_count": 24,
     "metadata": {},
     "output_type": "execute_result"
    }
   ],
   "source": [
    "sum(numbs)"
   ]
  },
  {
   "cell_type": "code",
   "execution_count": null,
   "metadata": {},
   "outputs": [],
   "source": []
  }
 ],
 "metadata": {
  "kernelspec": {
   "display_name": ".venv",
   "language": "python",
   "name": "python3"
  },
  "language_info": {
   "codemirror_mode": {
    "name": "ipython",
    "version": 3
   },
   "file_extension": ".py",
   "mimetype": "text/x-python",
   "name": "python",
   "nbconvert_exporter": "python",
   "pygments_lexer": "ipython3",
   "version": "3.10.4"
  }
 },
 "nbformat": 4,
 "nbformat_minor": 2
}
