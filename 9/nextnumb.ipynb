{
 "cells": [
  {
   "cell_type": "code",
   "execution_count": null,
   "metadata": {},
   "outputs": [],
   "source": [
    "file_path = r'C:\\Users\\KG\\Documents\\GitHub\\advent-of-code-2023\\9\\histories.txt' \n",
    "\n",
    "with open(file_path, 'r') as file:\n",
    "    orgiginal_lines = file.readlines()\n",
    "\n",
    "orgiginal_lines = [line.strip() for line in orgiginal_lines]\n",
    "orgiginal_lines"
   ]
  }
 ],
 "metadata": {
  "language_info": {
   "name": "python"
  }
 },
 "nbformat": 4,
 "nbformat_minor": 2
}
