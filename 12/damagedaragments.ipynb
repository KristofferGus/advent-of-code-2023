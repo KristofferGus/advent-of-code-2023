{
 "cells": [
  {
   "cell_type": "code",
   "execution_count": 160,
   "metadata": {},
   "outputs": [
    {
     "name": "stdout",
     "output_type": "stream",
     "text": [
      "???.### 1,1,3\n",
      ".??..??...?##. 1,1,3\n",
      "?#?#?#?#?#?#?#? 1,3,1,6\n",
      "????.#...#... 4,1,1\n",
      "????.######..#####. 1,6,5\n",
      "?###???????? 3,2,1\n"
     ]
    }
   ],
   "source": [
    "file_path = r'C:\\Users\\KG\\Documents\\GitHub\\advent-of-code-2023\\12\\gaysors.txt' \n",
    "\n",
    "with open(file_path, 'r') as file:\n",
    "    orgiginal_lines = file.readlines()\n",
    "\n",
    "\n",
    "orgiginal_lines = [line.strip() for line in orgiginal_lines]\n",
    "for l in orgiginal_lines:\n",
    "    print(l)"
   ]
  },
  {
   "cell_type": "code",
   "execution_count": 161,
   "metadata": {},
   "outputs": [
    {
     "data": {
      "text/plain": [
       "[('???.###', [1, 1, 3]),\n",
       " ('.??..??...?##.', [1, 1, 3]),\n",
       " ('?#?#?#?#?#?#?#?', [1, 3, 1, 6]),\n",
       " ('????.#...#...', [4, 1, 1]),\n",
       " ('????.######..#####.', [1, 6, 5]),\n",
       " ('?###????????', [3, 2, 1])]"
      ]
     },
     "execution_count": 161,
     "metadata": {},
     "output_type": "execute_result"
    }
   ],
   "source": [
    "lines = [tuple(l.split(\" \")) for l in orgiginal_lines]\n",
    "lines = [(a,[int(c) for c in b.split(\",\")]) for a, b in lines]\n",
    "lines"
   ]
  },
  {
   "cell_type": "code",
   "execution_count": 162,
   "metadata": {},
   "outputs": [],
   "source": [
    "def is_valid(gaysors, numbs):\n",
    "    geys = [g for g in gaysors.split(\".\") if g != \"\"]\n",
    "    return len(geys) == len(numbs) and all([n == len(g) for n,g in zip(numbs, geys)])\n",
    "   \n",
    "    \n",
    "\n",
    "\n",
    "assert is_valid(\"#.#.###\", [1,1,3])\n",
    "assert is_valid(\".#.###.#.######\", [1,3,1,6])\n",
    "assert is_valid(\"####.#...#...\", [4,1,1])\n",
    "assert is_valid(\"#....######..#####.\", [1,6,5])\n",
    "assert is_valid(\".###.##....#\", [3,2,1])\n",
    "assert not is_valid(\"#...###\", [1,1,3])\n",
    "assert not is_valid(\".#.###.########\", [1,3,1,6])\n",
    "assert not is_valid(\"####.#...#...\", [4,1,1,1])\n",
    "assert not is_valid(\"#....######..#####.\", [1,5,5])\n",
    "assert not is_valid(\".###.##.#..#\", [3,2,1])\n",
    "assert not is_valid(\"##\", [1,1])"
   ]
  },
  {
   "cell_type": "code",
   "execution_count": null,
   "metadata": {},
   "outputs": [],
   "source": []
  },
  {
   "cell_type": "code",
   "execution_count": 163,
   "metadata": {},
   "outputs": [
    {
     "name": "stdout",
     "output_type": "stream",
     "text": [
      "1\n",
      "4\n",
      "1\n",
      "1\n",
      "4\n",
      "10\n"
     ]
    }
   ],
   "source": [
    "def generate(gaysors):\n",
    "    i = 0\n",
    "    while i < len(gaysors) and gaysors[i] != \"?\":\n",
    "        i += 1\n",
    "        \n",
    "    if i >= len(gaysors):\n",
    "        return [gaysors]\n",
    "    f = list(gaysors)[:]\n",
    "    f[i] = \".\"\n",
    "    b = list(gaysors)[:]\n",
    "    b[i] = \"#\"\n",
    "    fixed = generate(\"\".join(f))\n",
    "    broken = generate(\"\".join(b))\n",
    "    return fixed + broken\n",
    "    \n",
    "\n",
    "\n",
    "result = [[gay for gay in  generate(line[0]) if is_valid(gay, line[1])] for line in lines]\n",
    "\n",
    "for l in result:\n",
    "    print(len(l))"
   ]
  },
  {
   "cell_type": "code",
   "execution_count": 164,
   "metadata": {},
   "outputs": [
    {
     "data": {
      "text/plain": [
       "21"
      ]
     },
     "execution_count": 164,
     "metadata": {},
     "output_type": "execute_result"
    }
   ],
   "source": [
    "sum([len(r) for r in result])"
   ]
  },
  {
   "cell_type": "markdown",
   "metadata": {},
   "source": [
    "11509 too high"
   ]
  },
  {
   "cell_type": "markdown",
   "metadata": {},
   "source": [
    "part 2"
   ]
  },
  {
   "cell_type": "code",
   "execution_count": 165,
   "metadata": {},
   "outputs": [
    {
     "data": {
      "text/plain": [
       "[('???.###????.###????.###????.###????.###',\n",
       "  [1, 1, 3, 1, 1, 3, 1, 1, 3, 1, 1, 3, 1, 1, 3]),\n",
       " ('.??..??...?##.?.??..??...?##.?.??..??...?##.?.??..??...?##.?.??..??...?##.',\n",
       "  [1, 1, 3, 1, 1, 3, 1, 1, 3, 1, 1, 3, 1, 1, 3]),\n",
       " ('?#?#?#?#?#?#?#???#?#?#?#?#?#?#???#?#?#?#?#?#?#???#?#?#?#?#?#?#???#?#?#?#?#?#?#?',\n",
       "  [1, 3, 1, 6, 1, 3, 1, 6, 1, 3, 1, 6, 1, 3, 1, 6, 1, 3, 1, 6]),\n",
       " ('????.#...#...?????.#...#...?????.#...#...?????.#...#...?????.#...#...',\n",
       "  [4, 1, 1, 4, 1, 1, 4, 1, 1, 4, 1, 1, 4, 1, 1]),\n",
       " ('????.######..#####.?????.######..#####.?????.######..#####.?????.######..#####.?????.######..#####.',\n",
       "  [1, 6, 5, 1, 6, 5, 1, 6, 5, 1, 6, 5, 1, 6, 5]),\n",
       " ('?###??????????###??????????###??????????###??????????###????????',\n",
       "  [3, 2, 1, 3, 2, 1, 3, 2, 1, 3, 2, 1, 3, 2, 1])]"
      ]
     },
     "execution_count": 165,
     "metadata": {},
     "output_type": "execute_result"
    }
   ],
   "source": [
    "long_lines = []\n",
    "for line in lines:\n",
    "    gays = \"?\".join([line[0],line[0],line[0],line[0],line[0]])\n",
    "    numbs = line[1] + line[1] +line[1] +line[1] +line[1] \n",
    "    long_lines.append((gays, numbs))\n",
    "long_lines"
   ]
  },
  {
   "cell_type": "code",
   "execution_count": 169,
   "metadata": {},
   "outputs": [
    {
     "ename": "KeyboardInterrupt",
     "evalue": "",
     "output_type": "error",
     "traceback": [
      "\u001b[1;31m---------------------------------------------------------------------------\u001b[0m",
      "\u001b[1;31mKeyboardInterrupt\u001b[0m                         Traceback (most recent call last)",
      "\u001b[1;32mc:\\Users\\KG\\Documents\\GitHub\\advent-of-code-2023\\12\\damagedaragments.ipynb Cell 10\u001b[0m line \u001b[0;36m1\n\u001b[1;32m----> <a href='vscode-notebook-cell:/c%3A/Users/KG/Documents/GitHub/advent-of-code-2023/12/damagedaragments.ipynb#X16sZmlsZQ%3D%3D?line=0'>1</a>\u001b[0m \u001b[39mlen\u001b[39m(generate(long_lines[\u001b[39m2\u001b[39;49m][\u001b[39m0\u001b[39;49m]))\n",
      "\u001b[1;32mc:\\Users\\KG\\Documents\\GitHub\\advent-of-code-2023\\12\\damagedaragments.ipynb Cell 10\u001b[0m line \u001b[0;36m1\n\u001b[0;32m     <a href='vscode-notebook-cell:/c%3A/Users/KG/Documents/GitHub/advent-of-code-2023/12/damagedaragments.ipynb#X16sZmlsZQ%3D%3D?line=9'>10</a>\u001b[0m b \u001b[39m=\u001b[39m \u001b[39mlist\u001b[39m(gaysors)[:]\n\u001b[0;32m     <a href='vscode-notebook-cell:/c%3A/Users/KG/Documents/GitHub/advent-of-code-2023/12/damagedaragments.ipynb#X16sZmlsZQ%3D%3D?line=10'>11</a>\u001b[0m b[i] \u001b[39m=\u001b[39m \u001b[39m\"\u001b[39m\u001b[39m#\u001b[39m\u001b[39m\"\u001b[39m\n\u001b[1;32m---> <a href='vscode-notebook-cell:/c%3A/Users/KG/Documents/GitHub/advent-of-code-2023/12/damagedaragments.ipynb#X16sZmlsZQ%3D%3D?line=11'>12</a>\u001b[0m fixed \u001b[39m=\u001b[39m generate(\u001b[39m\"\u001b[39;49m\u001b[39m\"\u001b[39;49m\u001b[39m.\u001b[39;49mjoin(f))\n\u001b[0;32m     <a href='vscode-notebook-cell:/c%3A/Users/KG/Documents/GitHub/advent-of-code-2023/12/damagedaragments.ipynb#X16sZmlsZQ%3D%3D?line=12'>13</a>\u001b[0m broken \u001b[39m=\u001b[39m generate(\u001b[39m\"\u001b[39m\u001b[39m\"\u001b[39m\u001b[39m.\u001b[39mjoin(b))\n\u001b[0;32m     <a href='vscode-notebook-cell:/c%3A/Users/KG/Documents/GitHub/advent-of-code-2023/12/damagedaragments.ipynb#X16sZmlsZQ%3D%3D?line=13'>14</a>\u001b[0m \u001b[39mreturn\u001b[39;00m fixed \u001b[39m+\u001b[39m broken\n",
      "\u001b[1;32mc:\\Users\\KG\\Documents\\GitHub\\advent-of-code-2023\\12\\damagedaragments.ipynb Cell 10\u001b[0m line \u001b[0;36m1\n\u001b[0;32m     <a href='vscode-notebook-cell:/c%3A/Users/KG/Documents/GitHub/advent-of-code-2023/12/damagedaragments.ipynb#X16sZmlsZQ%3D%3D?line=9'>10</a>\u001b[0m b \u001b[39m=\u001b[39m \u001b[39mlist\u001b[39m(gaysors)[:]\n\u001b[0;32m     <a href='vscode-notebook-cell:/c%3A/Users/KG/Documents/GitHub/advent-of-code-2023/12/damagedaragments.ipynb#X16sZmlsZQ%3D%3D?line=10'>11</a>\u001b[0m b[i] \u001b[39m=\u001b[39m \u001b[39m\"\u001b[39m\u001b[39m#\u001b[39m\u001b[39m\"\u001b[39m\n\u001b[1;32m---> <a href='vscode-notebook-cell:/c%3A/Users/KG/Documents/GitHub/advent-of-code-2023/12/damagedaragments.ipynb#X16sZmlsZQ%3D%3D?line=11'>12</a>\u001b[0m fixed \u001b[39m=\u001b[39m generate(\u001b[39m\"\u001b[39;49m\u001b[39m\"\u001b[39;49m\u001b[39m.\u001b[39;49mjoin(f))\n\u001b[0;32m     <a href='vscode-notebook-cell:/c%3A/Users/KG/Documents/GitHub/advent-of-code-2023/12/damagedaragments.ipynb#X16sZmlsZQ%3D%3D?line=12'>13</a>\u001b[0m broken \u001b[39m=\u001b[39m generate(\u001b[39m\"\u001b[39m\u001b[39m\"\u001b[39m\u001b[39m.\u001b[39mjoin(b))\n\u001b[0;32m     <a href='vscode-notebook-cell:/c%3A/Users/KG/Documents/GitHub/advent-of-code-2023/12/damagedaragments.ipynb#X16sZmlsZQ%3D%3D?line=13'>14</a>\u001b[0m \u001b[39mreturn\u001b[39;00m fixed \u001b[39m+\u001b[39m broken\n",
      "    \u001b[1;31m[... skipping similar frames: generate at line 12 (20 times)]\u001b[0m\n",
      "\u001b[1;32mc:\\Users\\KG\\Documents\\GitHub\\advent-of-code-2023\\12\\damagedaragments.ipynb Cell 10\u001b[0m line \u001b[0;36m1\n\u001b[0;32m     <a href='vscode-notebook-cell:/c%3A/Users/KG/Documents/GitHub/advent-of-code-2023/12/damagedaragments.ipynb#X16sZmlsZQ%3D%3D?line=10'>11</a>\u001b[0m b[i] \u001b[39m=\u001b[39m \u001b[39m\"\u001b[39m\u001b[39m#\u001b[39m\u001b[39m\"\u001b[39m\n\u001b[0;32m     <a href='vscode-notebook-cell:/c%3A/Users/KG/Documents/GitHub/advent-of-code-2023/12/damagedaragments.ipynb#X16sZmlsZQ%3D%3D?line=11'>12</a>\u001b[0m fixed \u001b[39m=\u001b[39m generate(\u001b[39m\"\u001b[39m\u001b[39m\"\u001b[39m\u001b[39m.\u001b[39mjoin(f))\n\u001b[1;32m---> <a href='vscode-notebook-cell:/c%3A/Users/KG/Documents/GitHub/advent-of-code-2023/12/damagedaragments.ipynb#X16sZmlsZQ%3D%3D?line=12'>13</a>\u001b[0m broken \u001b[39m=\u001b[39m generate(\u001b[39m\"\u001b[39;49m\u001b[39m\"\u001b[39;49m\u001b[39m.\u001b[39;49mjoin(b))\n\u001b[0;32m     <a href='vscode-notebook-cell:/c%3A/Users/KG/Documents/GitHub/advent-of-code-2023/12/damagedaragments.ipynb#X16sZmlsZQ%3D%3D?line=13'>14</a>\u001b[0m \u001b[39mreturn\u001b[39;00m fixed \u001b[39m+\u001b[39m broken\n",
      "\u001b[1;32mc:\\Users\\KG\\Documents\\GitHub\\advent-of-code-2023\\12\\damagedaragments.ipynb Cell 10\u001b[0m line \u001b[0;36m1\n\u001b[0;32m     <a href='vscode-notebook-cell:/c%3A/Users/KG/Documents/GitHub/advent-of-code-2023/12/damagedaragments.ipynb#X16sZmlsZQ%3D%3D?line=10'>11</a>\u001b[0m b[i] \u001b[39m=\u001b[39m \u001b[39m\"\u001b[39m\u001b[39m#\u001b[39m\u001b[39m\"\u001b[39m\n\u001b[0;32m     <a href='vscode-notebook-cell:/c%3A/Users/KG/Documents/GitHub/advent-of-code-2023/12/damagedaragments.ipynb#X16sZmlsZQ%3D%3D?line=11'>12</a>\u001b[0m fixed \u001b[39m=\u001b[39m generate(\u001b[39m\"\u001b[39m\u001b[39m\"\u001b[39m\u001b[39m.\u001b[39mjoin(f))\n\u001b[1;32m---> <a href='vscode-notebook-cell:/c%3A/Users/KG/Documents/GitHub/advent-of-code-2023/12/damagedaragments.ipynb#X16sZmlsZQ%3D%3D?line=12'>13</a>\u001b[0m broken \u001b[39m=\u001b[39m generate(\u001b[39m\"\u001b[39;49m\u001b[39m\"\u001b[39;49m\u001b[39m.\u001b[39;49mjoin(b))\n\u001b[0;32m     <a href='vscode-notebook-cell:/c%3A/Users/KG/Documents/GitHub/advent-of-code-2023/12/damagedaragments.ipynb#X16sZmlsZQ%3D%3D?line=13'>14</a>\u001b[0m \u001b[39mreturn\u001b[39;00m fixed \u001b[39m+\u001b[39m broken\n",
      "    \u001b[1;31m[... skipping similar frames: generate at line 13 (11 times), generate at line 12 (7 times)]\u001b[0m\n",
      "\u001b[1;32mc:\\Users\\KG\\Documents\\GitHub\\advent-of-code-2023\\12\\damagedaragments.ipynb Cell 10\u001b[0m line \u001b[0;36m1\n\u001b[0;32m     <a href='vscode-notebook-cell:/c%3A/Users/KG/Documents/GitHub/advent-of-code-2023/12/damagedaragments.ipynb#X16sZmlsZQ%3D%3D?line=10'>11</a>\u001b[0m b[i] \u001b[39m=\u001b[39m \u001b[39m\"\u001b[39m\u001b[39m#\u001b[39m\u001b[39m\"\u001b[39m\n\u001b[0;32m     <a href='vscode-notebook-cell:/c%3A/Users/KG/Documents/GitHub/advent-of-code-2023/12/damagedaragments.ipynb#X16sZmlsZQ%3D%3D?line=11'>12</a>\u001b[0m fixed \u001b[39m=\u001b[39m generate(\u001b[39m\"\u001b[39m\u001b[39m\"\u001b[39m\u001b[39m.\u001b[39mjoin(f))\n\u001b[1;32m---> <a href='vscode-notebook-cell:/c%3A/Users/KG/Documents/GitHub/advent-of-code-2023/12/damagedaragments.ipynb#X16sZmlsZQ%3D%3D?line=12'>13</a>\u001b[0m broken \u001b[39m=\u001b[39m generate(\u001b[39m\"\u001b[39;49m\u001b[39m\"\u001b[39;49m\u001b[39m.\u001b[39;49mjoin(b))\n\u001b[0;32m     <a href='vscode-notebook-cell:/c%3A/Users/KG/Documents/GitHub/advent-of-code-2023/12/damagedaragments.ipynb#X16sZmlsZQ%3D%3D?line=13'>14</a>\u001b[0m \u001b[39mreturn\u001b[39;00m fixed \u001b[39m+\u001b[39m broken\n",
      "\u001b[1;32mc:\\Users\\KG\\Documents\\GitHub\\advent-of-code-2023\\12\\damagedaragments.ipynb Cell 10\u001b[0m line \u001b[0;36m1\n\u001b[0;32m     <a href='vscode-notebook-cell:/c%3A/Users/KG/Documents/GitHub/advent-of-code-2023/12/damagedaragments.ipynb#X16sZmlsZQ%3D%3D?line=9'>10</a>\u001b[0m b \u001b[39m=\u001b[39m \u001b[39mlist\u001b[39m(gaysors)[:]\n\u001b[0;32m     <a href='vscode-notebook-cell:/c%3A/Users/KG/Documents/GitHub/advent-of-code-2023/12/damagedaragments.ipynb#X16sZmlsZQ%3D%3D?line=10'>11</a>\u001b[0m b[i] \u001b[39m=\u001b[39m \u001b[39m\"\u001b[39m\u001b[39m#\u001b[39m\u001b[39m\"\u001b[39m\n\u001b[1;32m---> <a href='vscode-notebook-cell:/c%3A/Users/KG/Documents/GitHub/advent-of-code-2023/12/damagedaragments.ipynb#X16sZmlsZQ%3D%3D?line=11'>12</a>\u001b[0m fixed \u001b[39m=\u001b[39m generate(\u001b[39m\"\u001b[39;49m\u001b[39m\"\u001b[39;49m\u001b[39m.\u001b[39;49mjoin(f))\n\u001b[0;32m     <a href='vscode-notebook-cell:/c%3A/Users/KG/Documents/GitHub/advent-of-code-2023/12/damagedaragments.ipynb#X16sZmlsZQ%3D%3D?line=12'>13</a>\u001b[0m broken \u001b[39m=\u001b[39m generate(\u001b[39m\"\u001b[39m\u001b[39m\"\u001b[39m\u001b[39m.\u001b[39mjoin(b))\n\u001b[0;32m     <a href='vscode-notebook-cell:/c%3A/Users/KG/Documents/GitHub/advent-of-code-2023/12/damagedaragments.ipynb#X16sZmlsZQ%3D%3D?line=13'>14</a>\u001b[0m \u001b[39mreturn\u001b[39;00m fixed \u001b[39m+\u001b[39m broken\n",
      "\u001b[1;31mKeyboardInterrupt\u001b[0m: "
     ]
    }
   ],
   "source": [
    "len(generate(long_lines[2][0]))"
   ]
  },
  {
   "cell_type": "code",
   "execution_count": null,
   "metadata": {},
   "outputs": [],
   "source": []
  }
 ],
 "metadata": {
  "kernelspec": {
   "display_name": ".venv",
   "language": "python",
   "name": "python3"
  },
  "language_info": {
   "codemirror_mode": {
    "name": "ipython",
    "version": 3
   },
   "file_extension": ".py",
   "mimetype": "text/x-python",
   "name": "python",
   "nbconvert_exporter": "python",
   "pygments_lexer": "ipython3",
   "version": "3.10.4"
  }
 },
 "nbformat": 4,
 "nbformat_minor": 2
}
