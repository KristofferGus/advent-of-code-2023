{
 "cells": [
  {
   "cell_type": "code",
   "execution_count": 11,
   "metadata": {},
   "outputs": [
    {
     "data": {
      "text/plain": [
       "['Time:        47     98     66     98',\n",
       " 'Distance:   400   1213   1011   1540']"
      ]
     },
     "execution_count": 11,
     "metadata": {},
     "output_type": "execute_result"
    }
   ],
   "source": [
    "file_path = r'C:\\Users\\KG\\Documents\\GitHub\\advent-of-code-2023\\6\\records.txt' \n",
    "\n",
    "with open(file_path, 'r') as file:\n",
    "    orgiginal_lines = file.readlines()\n",
    "\n",
    "orgiginal_lines = [line.strip() for line in orgiginal_lines]\n",
    "orgiginal_lines"
   ]
  },
  {
   "cell_type": "code",
   "execution_count": 20,
   "metadata": {},
   "outputs": [
    {
     "data": {
      "text/plain": [
       "[(47, 400), (98, 1213), (66, 1011), (98, 1540)]"
      ]
     },
     "execution_count": 20,
     "metadata": {},
     "output_type": "execute_result"
    }
   ],
   "source": [
    "records = list(zip([int(l) for l in orgiginal_lines[0].split(\" \")[1:] if l!=\"\"], [int(l) for l in orgiginal_lines[1].split(\" \")[1:] if l != \"\"]))\n",
    "records"
   ]
  },
  {
   "cell_type": "code",
   "execution_count": 21,
   "metadata": {},
   "outputs": [],
   "source": [
    "def dis(wait, total):\n",
    "    return  (total - wait) * wait"
   ]
  },
  {
   "cell_type": "code",
   "execution_count": 27,
   "metadata": {},
   "outputs": [
    {
     "data": {
      "text/plain": [
       "[[420,\n",
       "  442,\n",
       "  462,\n",
       "  480,\n",
       "  496,\n",
       "  510,\n",
       "  522,\n",
       "  532,\n",
       "  540,\n",
       "  546,\n",
       "  550,\n",
       "  552,\n",
       "  552,\n",
       "  550,\n",
       "  546,\n",
       "  540,\n",
       "  532,\n",
       "  522,\n",
       "  510,\n",
       "  496,\n",
       "  480,\n",
       "  462,\n",
       "  442,\n",
       "  420],\n",
       " [1245,\n",
       "  1312,\n",
       "  1377,\n",
       "  1440,\n",
       "  1501,\n",
       "  1560,\n",
       "  1617,\n",
       "  1672,\n",
       "  1725,\n",
       "  1776,\n",
       "  1825,\n",
       "  1872,\n",
       "  1917,\n",
       "  1960,\n",
       "  2001,\n",
       "  2040,\n",
       "  2077,\n",
       "  2112,\n",
       "  2145,\n",
       "  2176,\n",
       "  2205,\n",
       "  2232,\n",
       "  2257,\n",
       "  2280,\n",
       "  2301,\n",
       "  2320,\n",
       "  2337,\n",
       "  2352,\n",
       "  2365,\n",
       "  2376,\n",
       "  2385,\n",
       "  2392,\n",
       "  2397,\n",
       "  2400,\n",
       "  2401,\n",
       "  2400,\n",
       "  2397,\n",
       "  2392,\n",
       "  2385,\n",
       "  2376,\n",
       "  2365,\n",
       "  2352,\n",
       "  2337,\n",
       "  2320,\n",
       "  2301,\n",
       "  2280,\n",
       "  2257,\n",
       "  2232,\n",
       "  2205,\n",
       "  2176,\n",
       "  2145,\n",
       "  2112,\n",
       "  2077,\n",
       "  2040,\n",
       "  2001,\n",
       "  1960,\n",
       "  1917,\n",
       "  1872,\n",
       "  1825,\n",
       "  1776,\n",
       "  1725,\n",
       "  1672,\n",
       "  1617,\n",
       "  1560,\n",
       "  1501,\n",
       "  1440,\n",
       "  1377,\n",
       "  1312,\n",
       "  1245],\n",
       " [1025,\n",
       "  1040,\n",
       "  1053,\n",
       "  1064,\n",
       "  1073,\n",
       "  1080,\n",
       "  1085,\n",
       "  1088,\n",
       "  1089,\n",
       "  1088,\n",
       "  1085,\n",
       "  1080,\n",
       "  1073,\n",
       "  1064,\n",
       "  1053,\n",
       "  1040,\n",
       "  1025],\n",
       " [1560,\n",
       "  1617,\n",
       "  1672,\n",
       "  1725,\n",
       "  1776,\n",
       "  1825,\n",
       "  1872,\n",
       "  1917,\n",
       "  1960,\n",
       "  2001,\n",
       "  2040,\n",
       "  2077,\n",
       "  2112,\n",
       "  2145,\n",
       "  2176,\n",
       "  2205,\n",
       "  2232,\n",
       "  2257,\n",
       "  2280,\n",
       "  2301,\n",
       "  2320,\n",
       "  2337,\n",
       "  2352,\n",
       "  2365,\n",
       "  2376,\n",
       "  2385,\n",
       "  2392,\n",
       "  2397,\n",
       "  2400,\n",
       "  2401,\n",
       "  2400,\n",
       "  2397,\n",
       "  2392,\n",
       "  2385,\n",
       "  2376,\n",
       "  2365,\n",
       "  2352,\n",
       "  2337,\n",
       "  2320,\n",
       "  2301,\n",
       "  2280,\n",
       "  2257,\n",
       "  2232,\n",
       "  2205,\n",
       "  2176,\n",
       "  2145,\n",
       "  2112,\n",
       "  2077,\n",
       "  2040,\n",
       "  2001,\n",
       "  1960,\n",
       "  1917,\n",
       "  1872,\n",
       "  1825,\n",
       "  1776,\n",
       "  1725,\n",
       "  1672,\n",
       "  1617,\n",
       "  1560]]"
      ]
     },
     "execution_count": 27,
     "metadata": {},
     "output_type": "execute_result"
    }
   ],
   "source": [
    "time_disnatces = []\n",
    "for time, dis_record in records:\n",
    "    distances = [dis(wait, time) for wait in range(time)]\n",
    "    distances = [d for d in distances if dis_record < d]\n",
    "    time_disnatces.append(distances)\n",
    "time_disnatces\n",
    "    "
   ]
  },
  {
   "cell_type": "code",
   "execution_count": 29,
   "metadata": {},
   "outputs": [
    {
     "data": {
      "text/plain": [
       "1660968"
      ]
     },
     "execution_count": 29,
     "metadata": {},
     "output_type": "execute_result"
    }
   ],
   "source": [
    "mul = 1\n",
    "for distances in time_disnatces:\n",
    "    mul *= len(distances)\n",
    "mul"
   ]
  },
  {
   "cell_type": "code",
   "execution_count": 37,
   "metadata": {},
   "outputs": [
    {
     "name": "stdout",
     "output_type": "stream",
     "text": [
      "47986698 400121310111540\n"
     ]
    }
   ],
   "source": [
    "time = int(''.join([str(t) for t,_ in records]))\n",
    "dis_record = int(''.join([str(d) for _,d in records]))\n",
    "print(time, dis_record)"
   ]
  },
  {
   "cell_type": "code",
   "execution_count": 38,
   "metadata": {},
   "outputs": [
    {
     "data": {
      "text/plain": [
       "26499773"
      ]
     },
     "execution_count": 38,
     "metadata": {},
     "output_type": "execute_result"
    }
   ],
   "source": [
    "\n",
    "\n",
    "\n",
    "\n",
    "distances = [dis(wait, time) for wait in range(time)]\n",
    "distances = [d for d in distances if dis_record < d]\n",
    "\n",
    "len(distances)"
   ]
  },
  {
   "cell_type": "code",
   "execution_count": 60,
   "metadata": {},
   "outputs": [
    {
     "data": {
      "text/plain": [
       "[1, 2, 3, 4, 5, 6, 7, 8, 9]"
      ]
     },
     "execution_count": 60,
     "metadata": {},
     "output_type": "execute_result"
    }
   ],
   "source": [
    "numbs = list(range(1, 10))\n",
    "numbs"
   ]
  },
  {
   "cell_type": "code",
   "execution_count": 95,
   "metadata": {},
   "outputs": [
    {
     "data": {
      "text/plain": [
       "[362880]"
      ]
     },
     "execution_count": 95,
     "metadata": {},
     "output_type": "execute_result"
    }
   ],
   "source": [
    "a = lambda l: [(l[i-1], l[i]) for i in range(1,len(l),2)] + [(l[-1],1)] * (len(l) % 2)\n",
    "\n",
    "c = lambda b, bin_op: [bin_op(t[0],t[1]) for t in b]\n",
    "\n",
    "d = lambda n, bin_op: c(a(n), bin_op)\n",
    "\n",
    "mul = lambda a,b: a*b\n",
    "\n",
    "d(d(d(d(numbs, mul),mul),mul),mul)"
   ]
  },
  {
   "cell_type": "code",
   "execution_count": null,
   "metadata": {},
   "outputs": [],
   "source": [
    "j = lambda l, f, bin_op, self, stop: l if stop(l) else self(f(l,bin_op),f,bin_op,self, stop)\n",
    "k = lambda list,f,bin_op, stop: j(list,f,bin_op,j, stop)\n",
    "q = lambda list,bin_op, stop: k(list,d,bin_op,stop)\n",
    "\n",
    "q(numbs,mul, lambda l: (len(l) == 1))"
   ]
  },
  {
   "cell_type": "code",
   "execution_count": 99,
   "metadata": {},
   "outputs": [
    {
     "ename": "",
     "evalue": "",
     "output_type": "error",
     "traceback": [
      "\u001b[1;31mThe Kernel crashed while executing code in the the current cell or a previous cell. Please review the code in the cell(s) to identify a possible cause of the failure. Click <a href='https://aka.ms/vscodeJupyterKernelCrash'>here</a> for more info. View Jupyter <a href='command:jupyter.viewOutput'>log</a> for further details."
     ]
    }
   ],
   "source": [
    "add = lambda a,b: a+b\n",
    "q(numbs, add, lambda l: (len(l) == 0))"
   ]
  },
  {
   "cell_type": "code",
   "execution_count": null,
   "metadata": {},
   "outputs": [],
   "source": []
  },
  {
   "cell_type": "code",
   "execution_count": null,
   "metadata": {},
   "outputs": [],
   "source": []
  }
 ],
 "metadata": {
  "kernelspec": {
   "display_name": ".venv",
   "language": "python",
   "name": "python3"
  },
  "language_info": {
   "codemirror_mode": {
    "name": "ipython",
    "version": 3
   },
   "file_extension": ".py",
   "mimetype": "text/x-python",
   "name": "python",
   "nbconvert_exporter": "python",
   "pygments_lexer": "ipython3",
   "version": "3.10.4"
  }
 },
 "nbformat": 4,
 "nbformat_minor": 2
}
