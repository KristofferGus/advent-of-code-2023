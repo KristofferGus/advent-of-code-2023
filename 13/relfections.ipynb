{
 "cells": [
  {
   "cell_type": "code",
   "execution_count": null,
   "metadata": {},
   "outputs": [],
   "source": [
    "file_path = r'C:\\Users\\KG\\Documents\\GitHub\\advent-of-code-2023\\13\\mirrors.txt' \n",
    "\n",
    "with open(file_path, 'r') as file:\n",
    "    orgiginal_lines = file.readlines()\n",
    "\n",
    "\n",
    "orgiginal_lines = [line.strip() for line in orgiginal_lines]\n",
    "for l in orgiginal_lines:\n",
    "    print(l)"
   ]
  }
 ],
 "metadata": {
  "language_info": {
   "name": "python"
  }
 },
 "nbformat": 4,
 "nbformat_minor": 2
}
