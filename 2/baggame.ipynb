{
 "cells": [
  {
   "cell_type": "code",
   "execution_count": 6,
   "metadata": {},
   "outputs": [
    {
     "data": {
      "text/plain": [
       "'Game 1: 1 green, 1 blue, 1 red; 1 green, 8 red, 7 blue; 6 blue, 10 red; 4 red, 9 blue, 2 green; 1 green, 3 blue; 4 red, 1 green, 10 blue'"
      ]
     },
     "execution_count": 6,
     "metadata": {},
     "output_type": "execute_result"
    }
   ],
   "source": [
    "file_path = r'C:\\Users\\KG\\Documents\\Git\\Advent of code 2023\\games.txt' \n",
    "\n",
    "with open(file_path, 'r') as file:\n",
    "    lines = file.readlines()\n",
    "\n",
    "lines = [line.strip() for line in lines]\n",
    "lines[0]"
   ]
  },
  {
   "cell_type": "code",
   "execution_count": 11,
   "metadata": {},
   "outputs": [
    {
     "data": {
      "text/plain": [
       "'Game 1: 1 green, 1 blue, 1 red; 1 green, 8 red, 7 blue; 6 blue, 10 red; 4 red, 9 blue, 2 green; 1 green, 3 blue; 4 red, 1 green, 10 blue'"
      ]
     },
     "execution_count": 11,
     "metadata": {},
     "output_type": "execute_result"
    }
   ],
   "source": [
    "lines[0]"
   ]
  },
  {
   "cell_type": "code",
   "execution_count": 32,
   "metadata": {},
   "outputs": [
    {
     "data": {
      "text/plain": [
       "[{'green': 1, 'blue': 1, 'red': 1},\n",
       " {'green': 1, 'red': 8, 'blue': 7},\n",
       " {'blue': 6, 'red': 10},\n",
       " {'red': 4, 'blue': 9, 'green': 2},\n",
       " {'green': 1, 'blue': 3},\n",
       " {'red': 4, 'green': 1, 'blue': 10}]"
      ]
     },
     "execution_count": 32,
     "metadata": {},
     "output_type": "execute_result"
    }
   ],
   "source": [
    "\n",
    "\n",
    "\n",
    "def line_to_game(line: str):\n",
    "    rounds = line.split(\";\")\n",
    "    _, rounds[0] = tuple(rounds[0].split(\":\"))\n",
    "    rounds = [round.split(\",\") for round in rounds]\n",
    "    rounds = [[tuple(count.split(\" \")[1:]) for count in round]for round in rounds]\n",
    "    round_counts = []\n",
    "    for round in rounds:\n",
    "        dic = {}\n",
    "        for count in round:\n",
    "            dic[count[1]] = int(count[0])\n",
    "        round_counts.append(dic)\n",
    "    return round_counts\n",
    " \n",
    "\n",
    "line_to_game(lines[0])\n",
    "        \n"
   ]
  },
  {
   "cell_type": "code",
   "execution_count": 33,
   "metadata": {},
   "outputs": [
    {
     "data": {
      "text/plain": [
       "{'green': 2, 'blue': 10, 'red': 10}"
      ]
     },
     "execution_count": 33,
     "metadata": {},
     "output_type": "execute_result"
    }
   ],
   "source": [
    "def find_largest(game, keys):\n",
    "    largest = {}\n",
    "    for round in game:\n",
    "        for key in keys:\n",
    "            if largest.get(key, 0) < round.get(key, 0):\n",
    "                largest[key] = round.get(key, 0)\n",
    "    return largest\n",
    "\n",
    "collor_keys = ['green', 'blue', 'red']\n",
    "find_largest(line_to_game(lines[0]), collor_keys)\n",
    "\n",
    "    "
   ]
  },
  {
   "cell_type": "code",
   "execution_count": 34,
   "metadata": {},
   "outputs": [
    {
     "data": {
      "text/plain": [
       "[{'green': 2, 'blue': 10, 'red': 10},\n",
       " {'green': 15, 'blue': 3, 'red': 10},\n",
       " {'green': 4, 'blue': 16, 'red': 6},\n",
       " {'green': 16, 'blue': 18, 'red': 20},\n",
       " {'green': 10, 'blue': 14, 'red': 6},\n",
       " {'red': 1, 'blue': 7, 'green': 2},\n",
       " {'green': 5, 'blue': 8, 'red': 3},\n",
       " {'green': 11, 'blue': 7, 'red': 1},\n",
       " {'green': 11, 'blue': 6, 'red': 10},\n",
       " {'green': 9, 'blue': 12, 'red': 2},\n",
       " {'green': 15, 'blue': 2, 'red': 12},\n",
       " {'green': 18, 'blue': 10, 'red': 5},\n",
       " {'green': 3, 'blue': 13, 'red': 11},\n",
       " {'green': 15, 'blue': 7, 'red': 10},\n",
       " {'green': 8, 'blue': 9, 'red': 10},\n",
       " {'green': 9, 'blue': 8, 'red': 12},\n",
       " {'green': 10, 'blue': 8, 'red': 14},\n",
       " {'green': 3, 'blue': 11, 'red': 18},\n",
       " {'green': 18, 'blue': 6, 'red': 8},\n",
       " {'green': 16, 'blue': 3, 'red': 7},\n",
       " {'blue': 10, 'red': 10, 'green': 16},\n",
       " {'green': 12, 'blue': 7, 'red': 11},\n",
       " {'blue': 11, 'red': 10, 'green': 8},\n",
       " {'green': 15, 'blue': 4, 'red': 2},\n",
       " {'green': 15, 'red': 12, 'blue': 6},\n",
       " {'green': 18, 'blue': 7, 'red': 12},\n",
       " {'green': 14, 'blue': 11, 'red': 7},\n",
       " {'green': 17, 'blue': 1, 'red': 1},\n",
       " {'green': 19, 'blue': 10, 'red': 2},\n",
       " {'green': 14, 'blue': 15, 'red': 17},\n",
       " {'green': 9, 'blue': 1, 'red': 12},\n",
       " {'green': 13, 'red': 7, 'blue': 1},\n",
       " {'green': 18, 'blue': 10, 'red': 6},\n",
       " {'green': 7, 'blue': 13, 'red': 4},\n",
       " {'blue': 4, 'red': 11, 'green': 8},\n",
       " {'green': 11, 'blue': 2, 'red': 14},\n",
       " {'green': 11, 'red': 10, 'blue': 1},\n",
       " {'green': 1, 'blue': 11, 'red': 11},\n",
       " {'red': 18, 'green': 3, 'blue': 2},\n",
       " {'blue': 3, 'red': 7, 'green': 5},\n",
       " {'green': 6, 'blue': 3, 'red': 12},\n",
       " {'green': 11, 'red': 5, 'blue': 5},\n",
       " {'blue': 16, 'green': 16, 'red': 3},\n",
       " {'green': 3, 'blue': 14, 'red': 2},\n",
       " {'blue': 1, 'red': 1, 'green': 3},\n",
       " {'green': 5, 'blue': 18, 'red': 8},\n",
       " {'green': 8, 'blue': 9, 'red': 7},\n",
       " {'green': 14, 'blue': 9, 'red': 17},\n",
       " {'green': 11, 'blue': 8, 'red': 8},\n",
       " {'green': 2, 'red': 3, 'blue': 8},\n",
       " {'green': 14, 'red': 8, 'blue': 12},\n",
       " {'green': 2, 'blue': 3, 'red': 8},\n",
       " {'green': 9, 'blue': 18, 'red': 9},\n",
       " {'green': 6, 'blue': 9, 'red': 4},\n",
       " {'green': 8, 'blue': 8, 'red': 6},\n",
       " {'green': 6, 'blue': 3, 'red': 1},\n",
       " {'green': 3, 'red': 15, 'blue': 1},\n",
       " {'blue': 8, 'red': 2, 'green': 6},\n",
       " {'green': 4, 'blue': 18, 'red': 5},\n",
       " {'green': 11, 'blue': 8, 'red': 4},\n",
       " {'green': 19, 'red': 6, 'blue': 7},\n",
       " {'green': 5, 'red': 3, 'blue': 13},\n",
       " {'green': 13, 'blue': 13, 'red': 6},\n",
       " {'green': 11, 'blue': 5, 'red': 1},\n",
       " {'green': 5, 'blue': 4, 'red': 6},\n",
       " {'green': 17, 'blue': 2, 'red': 14},\n",
       " {'green': 9, 'blue': 11, 'red': 4},\n",
       " {'blue': 10, 'red': 5, 'green': 8},\n",
       " {'green': 16, 'blue': 16, 'red': 2},\n",
       " {'green': 9, 'blue': 4, 'red': 1},\n",
       " {'green': 2, 'blue': 5, 'red': 1},\n",
       " {'green': 8, 'blue': 7, 'red': 3},\n",
       " {'green': 13, 'blue': 10, 'red': 4},\n",
       " {'green': 6, 'blue': 5, 'red': 5},\n",
       " {'green': 20, 'blue': 18, 'red': 17},\n",
       " {'green': 9, 'blue': 9, 'red': 20},\n",
       " {'green': 9, 'blue': 3, 'red': 18},\n",
       " {'green': 6, 'blue': 13, 'red': 12},\n",
       " {'blue': 2, 'red': 16, 'green': 3},\n",
       " {'green': 8, 'blue': 10, 'red': 8},\n",
       " {'green': 1, 'red': 6, 'blue': 8},\n",
       " {'blue': 7, 'red': 3, 'green': 10},\n",
       " {'green': 10, 'blue': 12, 'red': 1},\n",
       " {'green': 2, 'blue': 4, 'red': 14},\n",
       " {'green': 8, 'blue': 18, 'red': 8},\n",
       " {'green': 17, 'blue': 14, 'red': 12},\n",
       " {'green': 12, 'blue': 20, 'red': 3},\n",
       " {'green': 5, 'blue': 4, 'red': 3},\n",
       " {'blue': 12, 'red': 7, 'green': 1},\n",
       " {'green': 2, 'red': 13, 'blue': 4},\n",
       " {'green': 17, 'blue': 8, 'red': 3},\n",
       " {'blue': 14, 'red': 8, 'green': 12},\n",
       " {'green': 10, 'blue': 4, 'red': 1},\n",
       " {'green': 13, 'blue': 5, 'red': 15},\n",
       " {'green': 8, 'blue': 12, 'red': 9},\n",
       " {'green': 4, 'blue': 1, 'red': 2},\n",
       " {'green': 5, 'red': 4, 'blue': 8},\n",
       " {'blue': 2, 'green': 2, 'red': 5},\n",
       " {'green': 2, 'blue': 11, 'red': 9},\n",
       " {'green': 13, 'blue': 11, 'red': 15}]"
      ]
     },
     "execution_count": 34,
     "metadata": {},
     "output_type": "execute_result"
    }
   ],
   "source": [
    "highets_in_games = [find_largest(line_to_game(line), collor_keys) for line in lines]\n",
    "highets_in_games"
   ]
  },
  {
   "cell_type": "code",
   "execution_count": 37,
   "metadata": {},
   "outputs": [
    {
     "data": {
      "text/plain": [
       "[1,\n",
       " 5,\n",
       " 6,\n",
       " 7,\n",
       " 8,\n",
       " 9,\n",
       " 10,\n",
       " 13,\n",
       " 15,\n",
       " 16,\n",
       " 22,\n",
       " 23,\n",
       " 31,\n",
       " 32,\n",
       " 34,\n",
       " 35,\n",
       " 37,\n",
       " 38,\n",
       " 40,\n",
       " 41,\n",
       " 42,\n",
       " 44,\n",
       " 45,\n",
       " 47,\n",
       " 49,\n",
       " 50,\n",
       " 52,\n",
       " 54,\n",
       " 55,\n",
       " 56,\n",
       " 58,\n",
       " 60,\n",
       " 62,\n",
       " 63,\n",
       " 64,\n",
       " 65,\n",
       " 67,\n",
       " 68,\n",
       " 70,\n",
       " 71,\n",
       " 72,\n",
       " 73,\n",
       " 74,\n",
       " 78,\n",
       " 80,\n",
       " 81,\n",
       " 82,\n",
       " 83,\n",
       " 88,\n",
       " 89,\n",
       " 92,\n",
       " 93,\n",
       " 95,\n",
       " 96,\n",
       " 97,\n",
       " 98,\n",
       " 99]"
      ]
     },
     "execution_count": 37,
     "metadata": {},
     "output_type": "execute_result"
    }
   ],
   "source": [
    "capacity = {'blue': 14, 'red': 12, 'green': 13}\n",
    "posible_games = []\n",
    "for i, game in enumerate(highets_in_games):\n",
    "    if all([game.get(key, 0) <= capacity[key] for key in capacity.keys()]):\n",
    "        posible_games.append(i+1)\n",
    "posible_games"
   ]
  },
  {
   "cell_type": "code",
   "execution_count": 38,
   "metadata": {},
   "outputs": [
    {
     "data": {
      "text/plain": [
       "3035"
      ]
     },
     "execution_count": 38,
     "metadata": {},
     "output_type": "execute_result"
    }
   ],
   "source": [
    "sum(posible_games)"
   ]
  },
  {
   "cell_type": "markdown",
   "metadata": {},
   "source": [
    "part2"
   ]
  },
  {
   "cell_type": "code",
   "execution_count": 39,
   "metadata": {},
   "outputs": [
    {
     "data": {
      "text/plain": [
       "66027"
      ]
     },
     "execution_count": 39,
     "metadata": {},
     "output_type": "execute_result"
    }
   ],
   "source": [
    "sum = 0\n",
    "for game in highets_in_games:\n",
    "    prod = 1\n",
    "    for value in game.values():\n",
    "        prod *= value\n",
    "    sum += prod\n",
    "sum"
   ]
  },
  {
   "cell_type": "code",
   "execution_count": null,
   "metadata": {},
   "outputs": [],
   "source": []
  }
 ],
 "metadata": {
  "kernelspec": {
   "display_name": ".venv",
   "language": "python",
   "name": "python3"
  },
  "language_info": {
   "codemirror_mode": {
    "name": "ipython",
    "version": 3
   },
   "file_extension": ".py",
   "mimetype": "text/x-python",
   "name": "python",
   "nbconvert_exporter": "python",
   "pygments_lexer": "ipython3",
   "version": "3.10.11"
  }
 },
 "nbformat": 4,
 "nbformat_minor": 2
}
